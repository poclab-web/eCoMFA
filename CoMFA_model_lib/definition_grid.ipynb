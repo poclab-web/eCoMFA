{
 "cells": [
  {
   "cell_type": "code",
   "execution_count": 1,
   "id": "0e138148-3d97-40cc-bae8-48f9655bd7e9",
   "metadata": {},
   "outputs": [],
   "source": [
    "import py3Dmol\n",
    "import render_moleculer\n",
    "import importlib"
   ]
  },
  {
   "cell_type": "code",
   "execution_count": 2,
   "id": "d6a633c9",
   "metadata": {},
   "outputs": [],
   "source": [
    "def addbox(viewer,color,center,size):\n",
    "    size/=2\n",
    "    viewer.addLine({\"color\":color,\"start\":{\"x\":center[0]+size,\"y\":center[1]+size,\"z\":center[2]+size},\"end\":{\"x\":center[0]+size,\"y\":center[1]+size,\"z\":center[2]-size}, \"opacity\": 0.5});\n",
    "    viewer.addLine({\"color\":color,\"start\":{\"x\":center[0]+size,\"y\":center[1]-size,\"z\":center[2]+size},\"end\":{\"x\":center[0]+size,\"y\":center[1]-size,\"z\":center[2]-size}, \"opacity\": 0.5});\n",
    "    viewer.addLine({\"color\":color,\"start\":{\"x\":center[0]-size,\"y\":center[1]+size,\"z\":center[2]+size},\"end\":{\"x\":center[0]-size,\"y\":center[1]+size,\"z\":center[2]-size}, \"opacity\": 0.5});\n",
    "    viewer.addLine({\"color\":color,\"start\":{\"x\":center[0]-size,\"y\":center[1]-size,\"z\":center[2]+size},\"end\":{\"x\":center[0]-size,\"y\":center[1]-size,\"z\":center[2]-size}, \"opacity\": 0.5});\n",
    "\n",
    "    viewer.addLine({\"color\":color,\"start\":{\"x\":center[0]+size,\"y\":center[1]+size,\"z\":center[2]+size},\"end\":{\"x\":center[0]+size,\"y\":center[1]-size,\"z\":center[2]+size}, \"opacity\": 0.5});\n",
    "    viewer.addLine({\"color\":color,\"start\":{\"x\":center[0]+size,\"y\":center[1]+size,\"z\":center[2]-size},\"end\":{\"x\":center[0]+size,\"y\":center[1]-size,\"z\":center[2]-size}, \"opacity\": 0.5});\n",
    "    viewer.addLine({\"color\":color,\"start\":{\"x\":center[0]-size,\"y\":center[1]+size,\"z\":center[2]+size},\"end\":{\"x\":center[0]-size,\"y\":center[1]-size,\"z\":center[2]+size}, \"opacity\": 0.5});\n",
    "    viewer.addLine({\"color\":color,\"start\":{\"x\":center[0]-size,\"y\":center[1]+size,\"z\":center[2]-size},\"end\":{\"x\":center[0]-size,\"y\":center[1]-size,\"z\":center[2]-size}, \"opacity\": 0.5});\n",
    "\n",
    "    viewer.addLine({\"color\":color,\"start\":{\"x\":center[0]+size,\"y\":center[1]+size,\"z\":center[2]+size},\"end\":{\"x\":center[0]-size,\"y\":center[1]+size,\"z\":center[2]+size}, \"opacity\": 0.5});\n",
    "    viewer.addLine({\"color\":color,\"start\":{\"x\":center[0]+size,\"y\":center[1]+size,\"z\":center[2]-size},\"end\":{\"x\":center[0]-size,\"y\":center[1]+size,\"z\":center[2]-size}, \"opacity\": 0.5});\n",
    "    viewer.addLine({\"color\":color,\"start\":{\"x\":center[0]+size,\"y\":center[1]-size,\"z\":center[2]+size},\"end\":{\"x\":center[0]-size,\"y\":center[1]-size,\"z\":center[2]+size}, \"opacity\": 0.5});\n",
    "    viewer.addLine({\"color\":color,\"start\":{\"x\":center[0]+size,\"y\":center[1]-size,\"z\":center[2]-size},\"end\":{\"x\":center[0]-size,\"y\":center[1]-size,\"z\":center[2]-size}, \"opacity\": 0.5});"
   ]
  },
  {
   "cell_type": "code",
   "execution_count": null,
   "id": "47a908b6-5d81-46cd-af95-90a7b41cc9ed",
   "metadata": {
    "scrolled": true
   },
   "outputs": [],
   "source": [
    "import pandas as pd\n",
    "\n",
    "\n",
    "importlib.reload(render_moleculer)\n",
    "dir_name=\"/Users/mac_poclab/CoMFA_calc/KWOLFJPFCHCOCG-UHFFFAOYSA-N\"\n",
    "# dir_name=\"/Volumes/SSD-PSM960U3-UW/CoMFA_calc/KWOLFJPFCHCOCG-UHFFFAOYSA-N\"\n",
    "\n",
    "\n",
    "mol = py3Dmol.view({\"viewergrid\": None, \"style\": (10, 10)})#.rotate(-30, \"z\").rotate(-140, \"x\")\n",
    "\n",
    "with open(dir_name+\"/geom0.xyz\", \"r\") as f:\n",
    "    rl = f.read()\n",
    "mol.addModel(rl,  'xyz', {\"style\": \"stick\"})\n",
    "# render_moleculer.addmesh(mol)\n",
    "with open(dir_name+\"/Dt0.cube\", \"r\") as f:\n",
    "    densvol = f.read()\n",
    "with open(dir_name+\"/ESP0.cube\", \"r\") as f:\n",
    "    espvol = f.read()\n",
    "# mol.addVolumetricData(densvol, \"cube\",{\"isoval\": 0.001, 'color': 'white', \"opacity\": 0.5, \"voldata\": espvol,\"volformat\":\"cube\",\"smoothness\":2,#\"wireframe\":True,\n",
    "#                                    \"volscheme\": {\"gradient\":'rwb', \"min\":-.02, \"max\":.02}})\n",
    "\n",
    "df=pd.read_pickle(\"/Users/mac_poclab/PycharmProjects/CoMFA_model/arranged_dataset/cbs.pkl\")\n",
    "\n",
    "# addbox(mol,\"magenta\",[0,1,1],0.5)\n",
    "# addbox(mol,\"magenta\",[0,-1,1],0.5)\n",
    "# addbox(mol,\"cyan\",[0,1,-1],0.5)\n",
    "# addbox(mol,\"cyan\",[0,-1,-1],0.5)\n",
    "if False:\n",
    "    render_moleculer.addxyzarrow(mol)\n",
    "    step=0.5\n",
    "    mol.addBox({\"center\":{\"x\":0,\"y\":1,\"z\":1},\"dimensions\": {\"w\":step,\"h\":step,\"d\":step},\"color\":'magenta', \"opacity\": 1,\"wireframe\":False});\n",
    "    mol.addBox({\"center\":{\"x\":0,\"y\":-1,\"z\":1},\"wireframe\":True,\"dimensions\": {\"w\":step,\"h\":step,\"d\":step},\"color\":'magenta', \"opacity\": 1,\"wireframe\":False});\n",
    "    mol.addBox({\"center\":{\"x\":0,\"y\":1,\"z\":-1},\"dimensions\": {\"w\":step,\"h\":step,\"d\":step},\"color\":'cyan', \"opacity\": 1,\"wireframe\":False});\n",
    "    mol.addBox({\"center\":{\"x\":0,\"y\":-1,\"z\":-1},\"dimensions\": {\"w\":step,\"h\":step,\"d\":step},\"color\":'cyan', \"opacity\": 1,\"wireframe\":False});\n",
    "# render_moleculer.addxyzarrow(mol)\n",
    "mol.setBackgroundColor('#00000000',0)\n",
    "mol.show()"
   ]
  },
  {
   "cell_type": "code",
   "execution_count": null,
   "id": "50391b0a",
   "metadata": {},
   "outputs": [],
   "source": [
    "import re\n",
    "\n",
    "for key, value in df[df[\"InChIKey\"]==\"KWOLFJPFCHCOCG-UHFFFAOYSA-N\"].filter(like='electrostatic_unfold').iloc[0].items():\n",
    "    if abs(value)==0:\n",
    "        continue\n",
    "\n",
    "    x,y,z=map(int, re.findall(r'[+-]?\\d+', key))\n",
    "    if x<0:\n",
    "        x+=0.5\n",
    "    else:\n",
    "        x-=0.5\n",
    "    if y<0:\n",
    "        y+=0.5\n",
    "    else:\n",
    "        y-=0.5\n",
    "    if z<0:\n",
    "        z+=0.5\n",
    "    else:\n",
    "        z-=0.5\n",
    "    # if y<0:\n",
    "    #     continue\n",
    "    print(f\"Key: {key}, Value: {value}\")\n",
    "\n",
    "    addbox(mol,\"gray\",[x*0.5,y*0.5,z*0.5],0.5)\n",
    "mol.show()\n"
   ]
  },
  {
   "cell_type": "code",
   "execution_count": null,
   "id": "47a908b6-5d81-46cd-af95-90a7b41cc9ed",
   "metadata": {
    "scrolled": true
   },
   "outputs": [],
   "source": [
    "mol.png()\n",
    "\n"
   ]
  }
 ],
 "metadata": {
  "kernelspec": {
   "display_name": "CoMFA_model",
   "language": "python",
   "name": "python3"
  },
  "language_info": {
   "codemirror_mode": {
    "name": "ipython",
    "version": 3
   },
   "file_extension": ".py",
   "mimetype": "text/x-python",
   "name": "python",
   "nbconvert_exporter": "python",
   "pygments_lexer": "ipython3",
   "version": "3.8.19"
  }
 },
 "nbformat": 4,
 "nbformat_minor": 5
}
